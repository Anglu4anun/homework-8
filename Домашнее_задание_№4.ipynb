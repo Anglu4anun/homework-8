{
  "nbformat": 4,
  "nbformat_minor": 0,
  "metadata": {
    "colab": {
      "provenance": []
    },
    "kernelspec": {
      "name": "python3",
      "display_name": "Python 3"
    },
    "language_info": {
      "name": "python"
    }
  },
  "cells": [
    {
      "cell_type": "code",
      "execution_count": 1,
      "metadata": {
        "id": "EAbXeodaD-rg"
      },
      "outputs": [],
      "source": [
        "import numpy as np\n"
      ]
    },
    {
      "cell_type": "markdown",
      "source": [
        "Задание №1"
      ],
      "metadata": {
        "id": "_Vn7h0T7Z3DF"
      }
    },
    {
      "cell_type": "code",
      "source": [
        "a = np.array([[1, 2, 1],\n",
        "               [-2, 1, 1]])\n",
        "b = np.array([[3, 1],\n",
        "               [-1, 0],\n",
        "               [2, 4]])\n",
        "c = np.array([[-2, 2],\n",
        "               [1, -1],\n",
        "               [1, 2]])\n",
        "x = 2 * c\n",
        "z = a.dot(x)\n",
        "y = b + 2 * c"
      ],
      "metadata": {
        "id": "cSRZV91aH9ix"
      },
      "execution_count": 23,
      "outputs": []
    },
    {
      "cell_type": "code",
      "source": [
        "print(z)\n",
        "print(y)"
      ],
      "metadata": {
        "colab": {
          "base_uri": "https://localhost:8080/"
        },
        "id": "9Q636M3oWDmg",
        "outputId": "f6a9212d-296e-4455-db1a-b4fed3ce5b05"
      },
      "execution_count": 21,
      "outputs": [
        {
          "output_type": "stream",
          "name": "stdout",
          "text": [
            "[[ 3  5]\n",
            " [-5  2]]\n",
            "[[-1  5]\n",
            " [ 1 -2]\n",
            " [ 4  8]]\n"
          ]
        }
      ]
    },
    {
      "cell_type": "markdown",
      "source": [
        "Задание №2"
      ],
      "metadata": {
        "id": "uipEgvKIZ9z7"
      }
    },
    {
      "cell_type": "code",
      "source": [
        "x = np.zeros((8, 8), dtype=int)\n",
        "x[::2, ::2] = 1\n",
        "x[1::2, 1::2] = 1"
      ],
      "metadata": {
        "id": "Oqi2T9rKbFR3"
      },
      "execution_count": 27,
      "outputs": []
    },
    {
      "cell_type": "code",
      "source": [
        "print(x)"
      ],
      "metadata": {
        "colab": {
          "base_uri": "https://localhost:8080/"
        },
        "id": "EZQOdLzPbOUl",
        "outputId": "31f66d6c-26d1-4800-d85c-a4678ae98ca1"
      },
      "execution_count": 28,
      "outputs": [
        {
          "output_type": "stream",
          "name": "stdout",
          "text": [
            "[[1 0 1 0 1 0 1 0]\n",
            " [0 1 0 1 0 1 0 1]\n",
            " [1 0 1 0 1 0 1 0]\n",
            " [0 1 0 1 0 1 0 1]\n",
            " [1 0 1 0 1 0 1 0]\n",
            " [0 1 0 1 0 1 0 1]\n",
            " [1 0 1 0 1 0 1 0]\n",
            " [0 1 0 1 0 1 0 1]]\n"
          ]
        }
      ]
    },
    {
      "cell_type": "markdown",
      "source": [
        "Задание №3"
      ],
      "metadata": {
        "id": "VwVqyZCJbcNc"
      }
    },
    {
      "cell_type": "code",
      "source": [
        "x = np.arange(0, 1.5, 0.1)\n",
        "y = np.arange(1, 7)\n",
        "a = x.reshape(5, 3)\n",
        "b = y.reshape(3, 2)\n",
        "result = np.dot(a, b)"
      ],
      "metadata": {
        "id": "RkMcEzFibg_U"
      },
      "execution_count": 30,
      "outputs": []
    },
    {
      "cell_type": "code",
      "source": [
        "print(\"матрица №1:\\n\", a)\n",
        "print(\"матрица №2:\\n\", b)\n",
        "print(\"перемножение:\\n\", result)"
      ],
      "metadata": {
        "colab": {
          "base_uri": "https://localhost:8080/"
        },
        "id": "NvC__H9scngu",
        "outputId": "e37d2231-0b9e-40f6-a9c3-57b7c319e401"
      },
      "execution_count": 32,
      "outputs": [
        {
          "output_type": "stream",
          "name": "stdout",
          "text": [
            "матрица №1:\n",
            " [[0.  0.1 0.2]\n",
            " [0.3 0.4 0.5]\n",
            " [0.6 0.7 0.8]\n",
            " [0.9 1.  1.1]\n",
            " [1.2 1.3 1.4]]\n",
            "матрица №2:\n",
            " [[1 2]\n",
            " [3 4]\n",
            " [5 6]]\n",
            "перемножение:\n",
            " [[ 1.3  1.6]\n",
            " [ 4.   5.2]\n",
            " [ 6.7  8.8]\n",
            " [ 9.4 12.4]\n",
            " [12.1 16. ]]\n"
          ]
        }
      ]
    },
    {
      "cell_type": "markdown",
      "source": [
        "Задание №4"
      ],
      "metadata": {
        "id": "M0zvVi9_eyY7"
      }
    },
    {
      "cell_type": "code",
      "source": [
        "a = np.arange(1, 99, 2, dtype=np.int32)\n",
        "divisible_by_3 = a[a % 3 == 0]"
      ],
      "metadata": {
        "id": "VUmWmSPre0Z0"
      },
      "execution_count": 34,
      "outputs": []
    },
    {
      "cell_type": "code",
      "source": [
        "print(\"вектор\")\n",
        "print(a)"
      ],
      "metadata": {
        "colab": {
          "base_uri": "https://localhost:8080/"
        },
        "id": "As4PEmf2fjPK",
        "outputId": "e63808d9-8eab-42be-8d64-9b43a0d06de4"
      },
      "execution_count": 36,
      "outputs": [
        {
          "output_type": "stream",
          "name": "stdout",
          "text": [
            "вектор\n",
            "[ 1  3  5  7  9 11 13 15 17 19 21 23 25 27 29 31 33 35 37 39 41 43 45 47\n",
            " 49 51 53 55 57 59 61 63 65 67 69 71 73 75 77 79 81 83 85 87 89 91 93 95\n",
            " 97]\n"
          ]
        }
      ]
    },
    {
      "cell_type": "code",
      "source": [
        "print(\"кратное 3\")\n",
        "print(divisible_by_3)"
      ],
      "metadata": {
        "colab": {
          "base_uri": "https://localhost:8080/"
        },
        "id": "5CfemXFsfpvZ",
        "outputId": "5f89b545-8753-4e4c-aae1-e6a49cbf9e62"
      },
      "execution_count": 37,
      "outputs": [
        {
          "output_type": "stream",
          "name": "stdout",
          "text": [
            "кратное 3\n",
            "[ 3  9 15 21 27 33 39 45 51 57 63 69 75 81 87 93]\n"
          ]
        }
      ]
    }
  ]
}