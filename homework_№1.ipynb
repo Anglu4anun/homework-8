{
  "nbformat": 4,
  "nbformat_minor": 0,
  "metadata": {
    "colab": {
      "provenance": []
    },
    "kernelspec": {
      "name": "python3",
      "display_name": "Python 3"
    },
    "language_info": {
      "name": "python"
    }
  },
  "cells": [
    {
      "cell_type": "code",
      "source": [
        "import numpy as np"
      ],
      "metadata": {
        "id": "l7i25JKb8KPf"
      },
      "execution_count": null,
      "outputs": []
    },
    {
      "cell_type": "markdown",
      "source": [
        "First exercise\n"
      ],
      "metadata": {
        "id": "ukF3tYRA8YOX"
      }
    },
    {
      "cell_type": "code",
      "execution_count": null,
      "metadata": {
        "id": "S2eXg6BR74Dp"
      },
      "outputs": [],
      "source": [
        "a = np.matrix([6, -8, 3])\n",
        "b = np.matrix([[1],\n",
        "               [1],\n",
        "               [4]])\n",
        "x = a * b"
      ]
    },
    {
      "cell_type": "code",
      "source": [
        "x"
      ],
      "metadata": {
        "colab": {
          "base_uri": "https://localhost:8080/"
        },
        "id": "rp_VPs9a8VgY",
        "outputId": "7297c09e-5e13-430b-82bc-3966ee6c15a6"
      },
      "execution_count": null,
      "outputs": [
        {
          "output_type": "execute_result",
          "data": {
            "text/plain": [
              "matrix([[10]])"
            ]
          },
          "metadata": {},
          "execution_count": 5
        }
      ]
    },
    {
      "cell_type": "markdown",
      "source": [
        "Second exercise"
      ],
      "metadata": {
        "id": "M5L7atkO84MB"
      }
    },
    {
      "cell_type": "code",
      "source": [
        "a = np.matrix([[-3, -7],\n",
        "               [-10, 6],\n",
        "               [0, -6],\n",
        "               [-1, -3]])\n",
        "b = np.matrix([[-8, 9],\n",
        "               [4, -2]])\n",
        "x = a * b"
      ],
      "metadata": {
        "id": "triRjsCd8gTW"
      },
      "execution_count": null,
      "outputs": []
    },
    {
      "cell_type": "code",
      "source": [
        "print(x)"
      ],
      "metadata": {
        "colab": {
          "base_uri": "https://localhost:8080/"
        },
        "id": "v6FxnyKp9C7h",
        "outputId": "f8a1b2af-322c-4a11-e2cf-a780f0e2426b"
      },
      "execution_count": null,
      "outputs": [
        {
          "output_type": "stream",
          "name": "stdout",
          "text": [
            "[[  -4  -13]\n",
            " [ 104 -102]\n",
            " [ -24   12]\n",
            " [  -4   -3]]\n"
          ]
        }
      ]
    }
  ]
}